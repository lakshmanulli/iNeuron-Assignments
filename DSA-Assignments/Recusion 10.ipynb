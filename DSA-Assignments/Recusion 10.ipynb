{
 "cells": [
  {
   "attachments": {},
   "cell_type": "markdown",
   "metadata": {},
   "source": [
    "Question 1\n",
    "\n",
    "Given an integer n, return true if it is a power of three. Otherwise, return false. An integer n is a power of three, if there exists an integer x such that n == 3x.\n",
    "Example 1:\n",
    "\n",
    "Input: n = 27\n",
    "Output: true\n",
    "Explanation: 27 = 33\n",
    "Example 2:\n",
    "\n",
    "Input: n = 0\n",
    "Output: false\n",
    "Explanation: There is no x where 3x = 0."
   ]
  },
  {
   "cell_type": "code",
   "execution_count": 2,
   "metadata": {},
   "outputs": [
    {
     "name": "stdout",
     "output_type": "stream",
     "text": [
      "True\n",
      "False\n"
     ]
    }
   ],
   "source": [
    "def isPowerOfThree(n):\n",
    "    if n <= 0:\n",
    "        return False\n",
    "\n",
    "    while n % 3 == 0:\n",
    "        n /= 3\n",
    "\n",
    "    return n == 1\n",
    "print(isPowerOfThree(27)) \n",
    "print(isPowerOfThree(0))"
   ]
  },
  {
   "attachments": {},
   "cell_type": "markdown",
   "metadata": {},
   "source": [
    "Question 2\n",
    "\n",
    "you have a list arr of all integers in the range [1, n] sorted in a strictly increasing order. Apply the following algorithm on arr:\n",
    "Starting from left to right, remove the first number and every other number afterward until you reach the end of the list.\n",
    "Repeat the previous step again, but this time from right to left, remove the rightmost number and every other number from the remaining numbers.\n",
    "Keep repeating the steps again, alternating left to right and right to left, until a single number remains.\n",
    "Given the integer n, return the last number that remains in arr.\n",
    "\n",
    "Example 1:\n",
    "\n",
    "Input: n = 9\n",
    "Output: 6\n",
    "Explanation:\n",
    "arr = [1, 2,3, 4,5, 6,7, 8,9]\n",
    "arr = [2,4, 6,8]\n",
    "arr = [2, 6]\n",
    "arr = [6]"
   ]
  },
  {
   "cell_type": "code",
   "execution_count": 3,
   "metadata": {},
   "outputs": [
    {
     "name": "stdout",
     "output_type": "stream",
     "text": [
      "4\n"
     ]
    }
   ],
   "source": [
    "def lastRemaining(n):\n",
    "    leftToRight = True\n",
    "    remaining = n\n",
    "    step = 1\n",
    "\n",
    "    while remaining > 1:\n",
    "        if leftToRight or remaining % 2 == 1:\n",
    "            step *= 2\n",
    "\n",
    "        remaining //= 2\n",
    "        leftToRight = not leftToRight\n",
    "\n",
    "    return step\n",
    "\n",
    "print(lastRemaining(9))"
   ]
  },
  {
   "attachments": {},
   "cell_type": "markdown",
   "metadata": {},
   "source": [
    "Question 3\n",
    "\n",
    " Given a set represented as a string, write a recursive code to print all subsets of it. The subsets can be printed in any order.\n",
    "Example 1:\n",
    "\n",
    "Input :  set = “abc”\n",
    "\n",
    "Output : { “”, “a”, “b”, “c”, “ab”, “ac”, “bc”, “abc”}\n",
    "\n",
    "Example 2:\n",
    "\n",
    "Input : set = “abcd”\n",
    "\n",
    "Output : { “”, “a” ,”ab” ,”abc” ,”abcd”, “abd” ,”ac” ,”acd”, “ad” ,”b”, “bc” ,”bcd” ,”bd” ,”c” ,”cd” ,”d” }"
   ]
  },
  {
   "cell_type": "code",
   "execution_count": 4,
   "metadata": {},
   "outputs": [
    {
     "name": "stdout",
     "output_type": "stream",
     "text": [
      "{'', 'ac', 'c', 'a', 'ab', 'bc', 'b', 'abc'}\n",
      "{'', 'cd', 'bc', 'ac', 'c', 'bd', 'a', 'abd', 'ab', 'acd', 'd', 'bcd', 'abcd', 'b', 'ad', 'abc'}\n"
     ]
    }
   ],
   "source": [
    "def generateSubsets(s):\n",
    "    if len(s) == 0:\n",
    "        return {\"\"}\n",
    "\n",
    "    first = s[0]\n",
    "    subset = generateSubsets(s[1:])\n",
    "    result = set(subset)\n",
    "\n",
    "    for elem in subset:\n",
    "        result.add(first + elem)\n",
    "\n",
    "    return result\n",
    "\n",
    "print(generateSubsets(\"abc\"))\n",
    "\n",
    "\n",
    "print(generateSubsets(\"abcd\"))"
   ]
  },
  {
   "attachments": {},
   "cell_type": "markdown",
   "metadata": {},
   "source": [
    "Question 4\n",
    "\n",
    " Given a string calculate length of the string using recursion."
   ]
  },
  {
   "cell_type": "code",
   "execution_count": 5,
   "metadata": {},
   "outputs": [
    {
     "name": "stdout",
     "output_type": "stream",
     "text": [
      "5\n",
      "0\n",
      "3\n"
     ]
    }
   ],
   "source": [
    "def calculateLength(s):\n",
    "    if s == \"\":\n",
    "        return 0\n",
    "\n",
    "    return 1 + calculateLength(s[1:])\n",
    "\n",
    "print(calculateLength(\"Hello\"))  \n",
    "print(calculateLength(\"\"))      \n",
    "print(calculateLength(\"abc\")) "
   ]
  },
  {
   "attachments": {},
   "cell_type": "markdown",
   "metadata": {},
   "source": [
    "Question 5\n",
    "\n",
    " We are given a string S, we need to find count of all contiguous substrings starting and ending with same character.\n"
   ]
  },
  {
   "cell_type": "code",
   "execution_count": 6,
   "metadata": {},
   "outputs": [
    {
     "name": "stdout",
     "output_type": "stream",
     "text": [
      "3\n",
      "6\n"
     ]
    }
   ],
   "source": [
    "def countSubstrings(S):\n",
    "    count = 0\n",
    "\n",
    "    for i in range(len(S)):\n",
    "        for j in range(i, len(S)):\n",
    "            if S[i] == S[j]:\n",
    "                count += 1\n",
    "\n",
    "    return count\n",
    "print(countSubstrings(\"abc\")) \n",
    "print(countSubstrings(\"aaa\"))"
   ]
  },
  {
   "attachments": {},
   "cell_type": "markdown",
   "metadata": {},
   "source": [
    "Question 6\n",
    "\n",
    " The tower of Hanoi is a famous puzzle where we have three rods and N disks. The objective of the puzzle is to move the entire stack to another rod. You are given the number of discs N. Initially, these discs are in the rod 1. You need to print all the steps of discs movement so that all the discs reach the 3rd rod. Also, you need to find the total moves.Note: The discs are arranged such that the top disc is numbered 1 and the bottom-most disc is numbered N. Also, all the discs have different sizes and a bigger disc cannot be put on the top of a smaller disc. Refer the provided link to get a better clarity about the puzzle.\n",
    "Example 1:\n",
    "\n",
    "Input:\n",
    "N = 2\n",
    "Output:\n",
    "move disk 1 from rod 1 to rod 2\n",
    "move disk 2 from rod 1 to rod 3\n",
    "move disk 1 from rod 2 to rod 3\n",
    "3\n",
    "Explanation:For N=2 , steps will be\n",
    "as follows in the example and total\n",
    "3 steps will be taken."
   ]
  },
  {
   "cell_type": "code",
   "execution_count": 7,
   "metadata": {},
   "outputs": [
    {
     "name": "stdout",
     "output_type": "stream",
     "text": [
      "move disk 1 from rod 1 to rod 2\n",
      "move disk 2 from rod 1 to rod 3\n",
      "move disk 1 from rod 2 to rod 3\n",
      "3\n"
     ]
    }
   ],
   "source": [
    "def towerOfHanoi(N, source, destination, auxiliary):\n",
    "    if N == 1:\n",
    "        print(\"move disk 1 from rod\", source, \"to rod\", destination)\n",
    "        return 1\n",
    "\n",
    "    moves = 0\n",
    "    moves += towerOfHanoi(N-1, source, auxiliary, destination)\n",
    "    print(\"move disk\", N, \"from rod\", source, \"to rod\", destination)\n",
    "    moves += 1\n",
    "    moves += towerOfHanoi(N-1, auxiliary, destination, source)\n",
    "\n",
    "    return moves\n",
    "\n",
    "N = 2\n",
    "totalMoves = towerOfHanoi(N, 1, 3, 2)\n",
    "print(totalMoves)"
   ]
  },
  {
   "attachments": {},
   "cell_type": "markdown",
   "metadata": {},
   "source": [
    "Question 7\n",
    "\n",
    " Given a string str, the task is to print all the permutations of str. A permutation is an arrangement of all or part of a set of objects, with regard to the order of the arrangement. For instance, the words ‘bat’ and ‘tab’ represents two distinct permutation (or arrangements) of a similar three letter word.\n",
    "Examples:\n",
    "\n",
    "Input: str = “cd”\n",
    "\n",
    "Output: cd dc\n",
    "\n",
    "Input: str = “abb”\n",
    "\n",
    "Output: abb abb bab bba bab bba"
   ]
  },
  {
   "cell_type": "code",
   "execution_count": 8,
   "metadata": {},
   "outputs": [
    {
     "name": "stdout",
     "output_type": "stream",
     "text": [
      "['cd', 'dc']\n",
      "['abb', 'abb', 'bab', 'bba', 'bab', 'bba']\n"
     ]
    }
   ],
   "source": [
    "def permute(s):\n",
    "    if len(s) == 1:\n",
    "        return [s]\n",
    "\n",
    "    permutations = []\n",
    "\n",
    "    for i, ch in enumerate(s):\n",
    "        remaining_chars = s[:i] + s[i+1:]\n",
    "        sub_permutations = permute(remaining_chars)\n",
    "\n",
    "        for perm in sub_permutations:\n",
    "            permutations.append(ch + perm)\n",
    "\n",
    "    return permutations\n",
    "\n",
    "print(permute(\"cd\"))\n",
    "\n",
    "print(permute(\"abb\"))"
   ]
  },
  {
   "attachments": {},
   "cell_type": "markdown",
   "metadata": {},
   "source": [
    "Question 8\n",
    "\n",
    " Given a string, count total number of consonants in it. A consonant is an English alphabet character that is not vowel (a, e, i, o and u). Examples of constants are b, c, d, f, and g."
   ]
  },
  {
   "cell_type": "code",
   "execution_count": 9,
   "metadata": {},
   "outputs": [
    {
     "name": "stdout",
     "output_type": "stream",
     "text": [
      "3\n",
      "2\n",
      "5\n"
     ]
    }
   ],
   "source": [
    "def countConsonants(s):\n",
    "    count = 0\n",
    "\n",
    "    for ch in s:\n",
    "        if ch.isalpha() and ch.lower() not in ['a', 'e', 'i', 'o', 'u']:\n",
    "            count += 1\n",
    "\n",
    "    return count\n",
    "\n",
    "print(countConsonants(\"Hello\"))  \n",
    "print(countConsonants(\"OpenAI\")) \n",
    "print(countConsonants(\"Python\"))"
   ]
  },
  {
   "attachments": {},
   "cell_type": "markdown",
   "metadata": {},
   "source": []
  }
 ],
 "metadata": {
  "kernelspec": {
   "display_name": "Python 3",
   "language": "python",
   "name": "python3"
  },
  "language_info": {
   "codemirror_mode": {
    "name": "ipython",
    "version": 3
   },
   "file_extension": ".py",
   "mimetype": "text/x-python",
   "name": "python",
   "nbconvert_exporter": "python",
   "pygments_lexer": "ipython3",
   "version": "3.10.7"
  },
  "orig_nbformat": 4
 },
 "nbformat": 4,
 "nbformat_minor": 2
}
